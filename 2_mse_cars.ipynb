{
 "cells": [
  {
   "cell_type": "markdown",
   "id": "20325a06-4c25-43ea-8e32-22564f0920e6",
   "metadata": {},
   "source": [
    "Данные: технические характеристики разных конфигураций автомобилей\n",
    "\n",
    "Таргет: длина колесной базы конфигурации (в миллиметрах).\n",
    "\n",
    "Задача: добиться наименьшего MSE на test."
   ]
  },
  {
   "cell_type": "code",
   "execution_count": 1,
   "id": "c866d221-d004-4113-8c84-6628ade8ce14",
   "metadata": {},
   "outputs": [],
   "source": [
    "import numpy as np\n",
    "import pandas as pd\n",
    "import matplotlib.pyplot as plt\n",
    "import seaborn as sns\n",
    "from datetime import date\n",
    "from sklearn.linear_model import LinearRegression, Lasso, Ridge\n",
    "from sklearn.metrics import mean_absolute_error\n",
    "from sklearn.metrics import mean_squared_error\n",
    "from sklearn.model_selection import train_test_split\n",
    "from sklearn.preprocessing import MinMaxScaler, StandardScaler, RobustScaler\n",
    "from sklearn.linear_model import LassoCV, RidgeCV"
   ]
  },
  {
   "cell_type": "code",
   "execution_count": 2,
   "id": "06952e6e-6e76-42a9-88f0-0defe2ba6ade",
   "metadata": {},
   "outputs": [
    {
     "data": {
      "text/html": [
       "<div>\n",
       "<style scoped>\n",
       "    .dataframe tbody tr th:only-of-type {\n",
       "        vertical-align: middle;\n",
       "    }\n",
       "\n",
       "    .dataframe tbody tr th {\n",
       "        vertical-align: top;\n",
       "    }\n",
       "\n",
       "    .dataframe thead th {\n",
       "        text-align: right;\n",
       "    }\n",
       "</style>\n",
       "<table border=\"1\" class=\"dataframe\">\n",
       "  <thead>\n",
       "    <tr style=\"text-align: right;\">\n",
       "      <th></th>\n",
       "      <th>index</th>\n",
       "      <th>back-suspension</th>\n",
       "      <th>battery-capacity</th>\n",
       "      <th>charge-time</th>\n",
       "      <th>compression</th>\n",
       "      <th>consumption-mixed</th>\n",
       "      <th>cylinders-order</th>\n",
       "      <th>cylinders-value</th>\n",
       "      <th>engine-feeding</th>\n",
       "      <th>engine-start</th>\n",
       "      <th>...</th>\n",
       "      <th>configurations_front-brake</th>\n",
       "      <th>configurations_safety-rating</th>\n",
       "      <th>configurations_seats</th>\n",
       "      <th>configurations_tank-volume</th>\n",
       "      <th>supergen_year-stop</th>\n",
       "      <th>models_country-from</th>\n",
       "      <th>models_group</th>\n",
       "      <th>models_light-and-commercial</th>\n",
       "      <th>models_male</th>\n",
       "      <th>target</th>\n",
       "    </tr>\n",
       "  </thead>\n",
       "  <tbody>\n",
       "    <tr>\n",
       "      <th>0</th>\n",
       "      <td>0</td>\n",
       "      <td>9</td>\n",
       "      <td>-1.0</td>\n",
       "      <td>36457</td>\n",
       "      <td>9.0</td>\n",
       "      <td>4.3</td>\n",
       "      <td>0</td>\n",
       "      <td>3</td>\n",
       "      <td>4</td>\n",
       "      <td>2006</td>\n",
       "      <td>...</td>\n",
       "      <td>1</td>\n",
       "      <td>2</td>\n",
       "      <td>13</td>\n",
       "      <td>40.0</td>\n",
       "      <td>2018.0</td>\n",
       "      <td>16</td>\n",
       "      <td>3</td>\n",
       "      <td>0</td>\n",
       "      <td>1</td>\n",
       "      <td>2360</td>\n",
       "    </tr>\n",
       "    <tr>\n",
       "      <th>1</th>\n",
       "      <td>2</td>\n",
       "      <td>3</td>\n",
       "      <td>-1.0</td>\n",
       "      <td>44872</td>\n",
       "      <td>8.0</td>\n",
       "      <td>-1.0</td>\n",
       "      <td>3</td>\n",
       "      <td>7</td>\n",
       "      <td>4</td>\n",
       "      <td>1982</td>\n",
       "      <td>...</td>\n",
       "      <td>4</td>\n",
       "      <td>2</td>\n",
       "      <td>13</td>\n",
       "      <td>108.0</td>\n",
       "      <td>1993.0</td>\n",
       "      <td>34</td>\n",
       "      <td>3</td>\n",
       "      <td>0</td>\n",
       "      <td>1</td>\n",
       "      <td>3060</td>\n",
       "    </tr>\n",
       "    <tr>\n",
       "      <th>2</th>\n",
       "      <td>4</td>\n",
       "      <td>3</td>\n",
       "      <td>-1.0</td>\n",
       "      <td>55927</td>\n",
       "      <td>16.0</td>\n",
       "      <td>4.2</td>\n",
       "      <td>0</td>\n",
       "      <td>4</td>\n",
       "      <td>5</td>\n",
       "      <td>2014</td>\n",
       "      <td>...</td>\n",
       "      <td>4</td>\n",
       "      <td>2</td>\n",
       "      <td>13</td>\n",
       "      <td>55.0</td>\n",
       "      <td>2019.0</td>\n",
       "      <td>35</td>\n",
       "      <td>3</td>\n",
       "      <td>0</td>\n",
       "      <td>1</td>\n",
       "      <td>2648</td>\n",
       "    </tr>\n",
       "    <tr>\n",
       "      <th>3</th>\n",
       "      <td>5</td>\n",
       "      <td>0</td>\n",
       "      <td>-1.0</td>\n",
       "      <td>41405</td>\n",
       "      <td>10.3</td>\n",
       "      <td>-1.0</td>\n",
       "      <td>0</td>\n",
       "      <td>4</td>\n",
       "      <td>4</td>\n",
       "      <td>2000</td>\n",
       "      <td>...</td>\n",
       "      <td>4</td>\n",
       "      <td>2</td>\n",
       "      <td>13</td>\n",
       "      <td>55.0</td>\n",
       "      <td>2003.0</td>\n",
       "      <td>10</td>\n",
       "      <td>3</td>\n",
       "      <td>0</td>\n",
       "      <td>1</td>\n",
       "      <td>2513</td>\n",
       "    </tr>\n",
       "    <tr>\n",
       "      <th>4</th>\n",
       "      <td>7</td>\n",
       "      <td>8</td>\n",
       "      <td>-1.0</td>\n",
       "      <td>22523</td>\n",
       "      <td>19.0</td>\n",
       "      <td>-1.0</td>\n",
       "      <td>0</td>\n",
       "      <td>4</td>\n",
       "      <td>8</td>\n",
       "      <td>2000</td>\n",
       "      <td>...</td>\n",
       "      <td>4</td>\n",
       "      <td>1</td>\n",
       "      <td>13</td>\n",
       "      <td>62.0</td>\n",
       "      <td>2005.0</td>\n",
       "      <td>10</td>\n",
       "      <td>3</td>\n",
       "      <td>0</td>\n",
       "      <td>1</td>\n",
       "      <td>2703</td>\n",
       "    </tr>\n",
       "    <tr>\n",
       "      <th>...</th>\n",
       "      <td>...</td>\n",
       "      <td>...</td>\n",
       "      <td>...</td>\n",
       "      <td>...</td>\n",
       "      <td>...</td>\n",
       "      <td>...</td>\n",
       "      <td>...</td>\n",
       "      <td>...</td>\n",
       "      <td>...</td>\n",
       "      <td>...</td>\n",
       "      <td>...</td>\n",
       "      <td>...</td>\n",
       "      <td>...</td>\n",
       "      <td>...</td>\n",
       "      <td>...</td>\n",
       "      <td>...</td>\n",
       "      <td>...</td>\n",
       "      <td>...</td>\n",
       "      <td>...</td>\n",
       "      <td>...</td>\n",
       "      <td>...</td>\n",
       "    </tr>\n",
       "    <tr>\n",
       "      <th>43240</th>\n",
       "      <td>61224</td>\n",
       "      <td>9</td>\n",
       "      <td>-1.0</td>\n",
       "      <td>34558</td>\n",
       "      <td>11.2</td>\n",
       "      <td>6.6</td>\n",
       "      <td>0</td>\n",
       "      <td>4</td>\n",
       "      <td>4</td>\n",
       "      <td>2004</td>\n",
       "      <td>...</td>\n",
       "      <td>1</td>\n",
       "      <td>2</td>\n",
       "      <td>13</td>\n",
       "      <td>47.0</td>\n",
       "      <td>2016.0</td>\n",
       "      <td>15</td>\n",
       "      <td>3</td>\n",
       "      <td>0</td>\n",
       "      <td>1</td>\n",
       "      <td>2510</td>\n",
       "    </tr>\n",
       "    <tr>\n",
       "      <th>43241</th>\n",
       "      <td>61225</td>\n",
       "      <td>3</td>\n",
       "      <td>-1.0</td>\n",
       "      <td>38268</td>\n",
       "      <td>9.6</td>\n",
       "      <td>5.8</td>\n",
       "      <td>0</td>\n",
       "      <td>4</td>\n",
       "      <td>2</td>\n",
       "      <td>2013</td>\n",
       "      <td>...</td>\n",
       "      <td>4</td>\n",
       "      <td>2</td>\n",
       "      <td>13</td>\n",
       "      <td>65.0</td>\n",
       "      <td>2015.0</td>\n",
       "      <td>10</td>\n",
       "      <td>3</td>\n",
       "      <td>0</td>\n",
       "      <td>1</td>\n",
       "      <td>2808</td>\n",
       "    </tr>\n",
       "    <tr>\n",
       "      <th>43242</th>\n",
       "      <td>61226</td>\n",
       "      <td>3</td>\n",
       "      <td>-1.0</td>\n",
       "      <td>8958</td>\n",
       "      <td>10.0</td>\n",
       "      <td>9.3</td>\n",
       "      <td>0</td>\n",
       "      <td>4</td>\n",
       "      <td>4</td>\n",
       "      <td>1991</td>\n",
       "      <td>...</td>\n",
       "      <td>4</td>\n",
       "      <td>2</td>\n",
       "      <td>13</td>\n",
       "      <td>55.0</td>\n",
       "      <td>1999.0</td>\n",
       "      <td>16</td>\n",
       "      <td>3</td>\n",
       "      <td>0</td>\n",
       "      <td>1</td>\n",
       "      <td>2520</td>\n",
       "    </tr>\n",
       "    <tr>\n",
       "      <th>43243</th>\n",
       "      <td>61227</td>\n",
       "      <td>3</td>\n",
       "      <td>-1.0</td>\n",
       "      <td>20293</td>\n",
       "      <td>8.5</td>\n",
       "      <td>-1.0</td>\n",
       "      <td>0</td>\n",
       "      <td>5</td>\n",
       "      <td>4</td>\n",
       "      <td>2002</td>\n",
       "      <td>...</td>\n",
       "      <td>1</td>\n",
       "      <td>2</td>\n",
       "      <td>13</td>\n",
       "      <td>70.0</td>\n",
       "      <td>2004.0</td>\n",
       "      <td>28</td>\n",
       "      <td>3</td>\n",
       "      <td>0</td>\n",
       "      <td>1</td>\n",
       "      <td>2755</td>\n",
       "    </tr>\n",
       "    <tr>\n",
       "      <th>43244</th>\n",
       "      <td>61228</td>\n",
       "      <td>10</td>\n",
       "      <td>-1.0</td>\n",
       "      <td>52459</td>\n",
       "      <td>8.6</td>\n",
       "      <td>-1.0</td>\n",
       "      <td>0</td>\n",
       "      <td>4</td>\n",
       "      <td>4</td>\n",
       "      <td>1982</td>\n",
       "      <td>...</td>\n",
       "      <td>1</td>\n",
       "      <td>2</td>\n",
       "      <td>8</td>\n",
       "      <td>-1.0</td>\n",
       "      <td>1987.0</td>\n",
       "      <td>16</td>\n",
       "      <td>3</td>\n",
       "      <td>0</td>\n",
       "      <td>0</td>\n",
       "      <td>2620</td>\n",
       "    </tr>\n",
       "  </tbody>\n",
       "</table>\n",
       "<p>43245 rows × 32 columns</p>\n",
       "</div>"
      ],
      "text/plain": [
       "       index  back-suspension  battery-capacity  charge-time  compression  \\\n",
       "0          0                9              -1.0        36457          9.0   \n",
       "1          2                3              -1.0        44872          8.0   \n",
       "2          4                3              -1.0        55927         16.0   \n",
       "3          5                0              -1.0        41405         10.3   \n",
       "4          7                8              -1.0        22523         19.0   \n",
       "...      ...              ...               ...          ...          ...   \n",
       "43240  61224                9              -1.0        34558         11.2   \n",
       "43241  61225                3              -1.0        38268          9.6   \n",
       "43242  61226                3              -1.0         8958         10.0   \n",
       "43243  61227                3              -1.0        20293          8.5   \n",
       "43244  61228               10              -1.0        52459          8.6   \n",
       "\n",
       "       consumption-mixed  cylinders-order  cylinders-value  engine-feeding  \\\n",
       "0                    4.3                0                3               4   \n",
       "1                   -1.0                3                7               4   \n",
       "2                    4.2                0                4               5   \n",
       "3                   -1.0                0                4               4   \n",
       "4                   -1.0                0                4               8   \n",
       "...                  ...              ...              ...             ...   \n",
       "43240                6.6                0                4               4   \n",
       "43241                5.8                0                4               2   \n",
       "43242                9.3                0                4               4   \n",
       "43243               -1.0                0                5               4   \n",
       "43244               -1.0                0                4               4   \n",
       "\n",
       "       engine-start  ...  configurations_front-brake  \\\n",
       "0              2006  ...                           1   \n",
       "1              1982  ...                           4   \n",
       "2              2014  ...                           4   \n",
       "3              2000  ...                           4   \n",
       "4              2000  ...                           4   \n",
       "...             ...  ...                         ...   \n",
       "43240          2004  ...                           1   \n",
       "43241          2013  ...                           4   \n",
       "43242          1991  ...                           4   \n",
       "43243          2002  ...                           1   \n",
       "43244          1982  ...                           1   \n",
       "\n",
       "       configurations_safety-rating  configurations_seats  \\\n",
       "0                                 2                    13   \n",
       "1                                 2                    13   \n",
       "2                                 2                    13   \n",
       "3                                 2                    13   \n",
       "4                                 1                    13   \n",
       "...                             ...                   ...   \n",
       "43240                             2                    13   \n",
       "43241                             2                    13   \n",
       "43242                             2                    13   \n",
       "43243                             2                    13   \n",
       "43244                             2                     8   \n",
       "\n",
       "       configurations_tank-volume  supergen_year-stop  models_country-from  \\\n",
       "0                            40.0              2018.0                   16   \n",
       "1                           108.0              1993.0                   34   \n",
       "2                            55.0              2019.0                   35   \n",
       "3                            55.0              2003.0                   10   \n",
       "4                            62.0              2005.0                   10   \n",
       "...                           ...                 ...                  ...   \n",
       "43240                        47.0              2016.0                   15   \n",
       "43241                        65.0              2015.0                   10   \n",
       "43242                        55.0              1999.0                   16   \n",
       "43243                        70.0              2004.0                   28   \n",
       "43244                        -1.0              1987.0                   16   \n",
       "\n",
       "       models_group  models_light-and-commercial  models_male  target  \n",
       "0                 3                            0            1    2360  \n",
       "1                 3                            0            1    3060  \n",
       "2                 3                            0            1    2648  \n",
       "3                 3                            0            1    2513  \n",
       "4                 3                            0            1    2703  \n",
       "...             ...                          ...          ...     ...  \n",
       "43240             3                            0            1    2510  \n",
       "43241             3                            0            1    2808  \n",
       "43242             3                            0            1    2520  \n",
       "43243             3                            0            1    2755  \n",
       "43244             3                            0            0    2620  \n",
       "\n",
       "[43245 rows x 32 columns]"
      ]
     },
     "execution_count": 2,
     "metadata": {},
     "output_type": "execute_result"
    }
   ],
   "source": [
    "df = pd.read_csv(\"https://raw.githubusercontent.com/katarina74/ml_lessons/main/lesson_2/data/techparams_train.csv\")\n",
    "df"
   ]
  },
  {
   "cell_type": "code",
   "execution_count": 3,
   "id": "c30c3e15-2729-49f4-b860-87e9686ee8af",
   "metadata": {},
   "outputs": [],
   "source": [
    "df = df.drop(columns='index') # можно убрать, тк дублирует автоматичекие индексы"
   ]
  },
  {
   "cell_type": "markdown",
   "id": "03dff433-83de-4753-9002-4939adef7171",
   "metadata": {},
   "source": [
    "#### Linear regression"
   ]
  },
  {
   "cell_type": "code",
   "execution_count": 4,
   "id": "d266f421-ee79-49cb-806a-552f33167b10",
   "metadata": {},
   "outputs": [],
   "source": [
    "# попробуем через linear regression\n",
    "\n",
    "X = df.drop([\"target\"], axis=1)\n",
    "y = df[\"target\"] \n",
    "\n",
    "train_X, test_X, train_y, test_y = train_test_split(X, y, test_size=0.33, random_state=42)\n",
    "\n",
    "reg = LinearRegression().fit(train_X, train_y)"
   ]
  },
  {
   "cell_type": "code",
   "execution_count": 5,
   "id": "1fb45090-bdb7-41f7-837f-5c0f46a4fd7b",
   "metadata": {},
   "outputs": [
    {
     "name": "stdout",
     "output_type": "stream",
     "text": [
      "Train MSE: 29843.04207439402;\n",
      "Test MSE: 31015.75310911948.\n"
     ]
    }
   ],
   "source": [
    "print(f'Train MSE: {mean_squared_error(reg.predict(train_X), train_y)};\\nTest MSE: {mean_squared_error(reg.predict(test_X), test_y)}.')"
   ]
  },
  {
   "cell_type": "markdown",
   "id": "650c941c-1724-4520-bc23-b6fe87fb6b03",
   "metadata": {},
   "source": [
    "#### Через MinMaxScaler"
   ]
  },
  {
   "cell_type": "code",
   "execution_count": 6,
   "id": "386652ba-bae1-42de-8ea3-aecab959b937",
   "metadata": {},
   "outputs": [],
   "source": [
    "X = df.drop([\"target\"], axis=1)\n",
    "y = df[\"target\"] \n",
    "\n",
    "train_X, test_X, train_y, test_y = train_test_split(X, y, test_size=0.33, random_state=42)\n",
    "\n",
    "scaler = MinMaxScaler()\n",
    "train_X_scaled = scaler.fit_transform(train_X)\n",
    "test_X_scaled = scaler.transform(test_X)\n",
    "\n",
    "reg = LinearRegression().fit(train_X_scaled, train_y)"
   ]
  },
  {
   "cell_type": "code",
   "execution_count": 7,
   "id": "cae6a70b-da1b-47bf-9f0d-0acf72e9f66f",
   "metadata": {},
   "outputs": [
    {
     "name": "stdout",
     "output_type": "stream",
     "text": [
      "Train MSE: 29843.042074394023;\n",
      "Test MSE: 31015.753109119363.\n"
     ]
    }
   ],
   "source": [
    "print(f'Train MSE: {mean_squared_error(train_y, reg.predict(train_X_scaled))};\\nTest MSE: {mean_squared_error(test_y, reg.predict(test_X_scaled))}.')"
   ]
  },
  {
   "cell_type": "markdown",
   "id": "6e49855e-acd2-45b5-970c-5c9e1f81cd59",
   "metadata": {},
   "source": [
    "#### Через StandardScaler"
   ]
  },
  {
   "cell_type": "code",
   "execution_count": 8,
   "id": "6687a296-05d1-43a5-b4c0-263c41d1a216",
   "metadata": {},
   "outputs": [],
   "source": [
    "X = df.drop([\"target\"], axis=1)\n",
    "y = df[\"target\"] \n",
    "\n",
    "train_X, test_X, train_y, test_y = train_test_split(X, y, test_size=0.33, random_state=42)\n",
    "\n",
    "scaler = StandardScaler()\n",
    "train_X_scaled = scaler.fit_transform(train_X)\n",
    "test_X_scaled = scaler.transform(test_X)\n",
    "\n",
    "reg = LinearRegression().fit(train_X_scaled, train_y)"
   ]
  },
  {
   "cell_type": "code",
   "execution_count": 9,
   "id": "3ae92cb9-b53c-4630-b1c6-4786f0cea599",
   "metadata": {},
   "outputs": [
    {
     "name": "stdout",
     "output_type": "stream",
     "text": [
      "Train MSE: 29843.042074394023;\n",
      "Test MSE: 31015.75310911936.\n"
     ]
    }
   ],
   "source": [
    "print(f'Train MSE: {mean_squared_error(train_y, reg.predict(train_X_scaled))};\\nTest MSE: {mean_squared_error(test_y, reg.predict(test_X_scaled))}.')"
   ]
  },
  {
   "cell_type": "markdown",
   "id": "85c4b6ec-72b6-4fb3-a753-f074bf9d81e6",
   "metadata": {},
   "source": [
    "#### Через RobustScaler"
   ]
  },
  {
   "cell_type": "code",
   "execution_count": 10,
   "id": "ddc6cabd-cc38-439c-a60f-97f456e7b354",
   "metadata": {},
   "outputs": [],
   "source": [
    "X = df.drop([\"target\"], axis=1)\n",
    "y = df[\"target\"] \n",
    "\n",
    "train_X, test_X, train_y, test_y = train_test_split(X, y, test_size=0.33, random_state=42)\n",
    "\n",
    "scaler = RobustScaler()\n",
    "train_X_scaled = scaler.fit_transform(train_X)\n",
    "test_X_scaled = scaler.transform(test_X)\n",
    "\n",
    "reg = LinearRegression().fit(train_X_scaled, train_y)"
   ]
  },
  {
   "cell_type": "code",
   "execution_count": 11,
   "id": "6ca2e5de-f9db-4a49-a058-438e1dd7ebe8",
   "metadata": {},
   "outputs": [
    {
     "name": "stdout",
     "output_type": "stream",
     "text": [
      "Train MSE: 29843.042074394023;\n",
      "Test MSE: 31015.753109119352.\n"
     ]
    }
   ],
   "source": [
    "print(f'Train MSE: {mean_squared_error(train_y, reg.predict(train_X_scaled))};\\nTest MSE: {mean_squared_error(test_y, reg.predict(test_X_scaled))}.')"
   ]
  },
  {
   "cell_type": "markdown",
   "id": "a29c3fe6-b115-4551-a349-42411e8bd86b",
   "metadata": {},
   "source": [
    "#### Lasso"
   ]
  },
  {
   "cell_type": "code",
   "execution_count": 12,
   "id": "4f15a874-fe74-40b4-8a73-281270f30658",
   "metadata": {},
   "outputs": [],
   "source": [
    "X = df.drop([\"target\"], axis=1)\n",
    "y = df[\"target\"] \n",
    "\n",
    "train_X, test_X, train_y, test_y = train_test_split(X, y, test_size=0.33, random_state=42)\n",
    "\n",
    "scaler = StandardScaler()\n",
    "train_X_scaled = scaler.fit_transform(train_X)\n",
    "test_X_scaled = scaler.transform(test_X)\n",
    "reg = Lasso().fit(train_X_scaled, train_y)"
   ]
  },
  {
   "cell_type": "code",
   "execution_count": 13,
   "id": "19773756-e372-4d3c-9dcd-edd39f8d6d28",
   "metadata": {},
   "outputs": [
    {
     "name": "stdout",
     "output_type": "stream",
     "text": [
      "Train MSE: 29883.97039909283;\n",
      "Test MSE: 31070.93628571238.\n"
     ]
    }
   ],
   "source": [
    "print(f'Train MSE: {mean_squared_error(train_y, reg.predict(train_X_scaled))};\\nTest MSE: {mean_squared_error(test_y, reg.predict(test_X_scaled))}.')"
   ]
  },
  {
   "cell_type": "markdown",
   "id": "fd4df8af-09e5-4a5b-937d-dd89bfd081d5",
   "metadata": {},
   "source": [
    "#### Ridge"
   ]
  },
  {
   "cell_type": "code",
   "execution_count": 14,
   "id": "88016a88-956a-4fce-bf4a-e3a08fa680b9",
   "metadata": {},
   "outputs": [],
   "source": [
    "X = df.drop([\"target\"], axis=1)\n",
    "y = df[\"target\"] \n",
    "\n",
    "train_X, test_X, train_y, test_y = train_test_split(X, y, test_size=0.33, random_state=42)\n",
    "\n",
    "scaler = StandardScaler()\n",
    "train_X_scaled = scaler.fit_transform(train_X)\n",
    "test_X_scaled = scaler.transform(test_X)\n",
    "reg = Ridge().fit(train_X_scaled, train_y)"
   ]
  },
  {
   "cell_type": "code",
   "execution_count": 15,
   "id": "c4b662ee-25c5-4e71-93a8-82543c250187",
   "metadata": {},
   "outputs": [
    {
     "name": "stdout",
     "output_type": "stream",
     "text": [
      "Train MSE: 29843.04245888063;\n",
      "Test MSE: 31015.77143866261.\n"
     ]
    }
   ],
   "source": [
    "print(f'Train MSE: {mean_squared_error(train_y, reg.predict(train_X_scaled))};\\nTest MSE: {mean_squared_error(test_y, reg.predict(test_X_scaled))}.')"
   ]
  },
  {
   "cell_type": "markdown",
   "id": "b57393ad-d4f5-4b5e-91c5-979feed26022",
   "metadata": {},
   "source": [
    "Лучше всего вышел результат при RobustScaler: в данном методе Test MSE получился наименьшим из проделанных способов - 31015.75109119352."
   ]
  },
  {
   "cell_type": "code",
   "execution_count": null,
   "id": "c811a8df-5810-4343-9da2-073e891f8dcd",
   "metadata": {},
   "outputs": [],
   "source": []
  }
 ],
 "metadata": {
  "kernelspec": {
   "display_name": "Python 3 (ipykernel)",
   "language": "python",
   "name": "python3"
  },
  "language_info": {
   "codemirror_mode": {
    "name": "ipython",
    "version": 3
   },
   "file_extension": ".py",
   "mimetype": "text/x-python",
   "name": "python",
   "nbconvert_exporter": "python",
   "pygments_lexer": "ipython3",
   "version": "3.12.7"
  }
 },
 "nbformat": 4,
 "nbformat_minor": 5
}
